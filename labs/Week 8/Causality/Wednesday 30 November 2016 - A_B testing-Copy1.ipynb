{
 "cells": [
  {
   "cell_type": "markdown",
   "metadata": {},
   "source": [
    "<a name=\"introduction\"></a>\n",
    "## Introduction: A/B Testing\n",
    "\n",
    "\n",
    "\n",
    "> A/B Testing is a term for a randomized experiment with two variants, A and B. These tests consist of test design, data collection, and data analysis stages.\n",
    "\n",
    "The most common use of A/B testing is to audition proposed changes to a website. Once the variants are designed, data is collected by assigning users to 'test' and 'control' groups, which will dictate the version of the site they will be served. The data that is collected is then analysed to decide if the change should be pushed to the site.\n",
    "\n",
    "An example of this is shown in the below graphic taken from www.vwo.com, a third parting A/B testing utility.\n",
    "\n",
    "![](./assets/images/ab_test1.png)\n",
    "\n",
    "It's very important when designing an A/B test to make the smallest change possible before testing the variant. Widespread changes introduce a slew of variables that will be impossible to track in most cases. Some examples of A/B tests that one might conduct are:\n",
    "\n",
    "- Changing the number of images on a page\n",
    "- Changing the font on a page\n",
    "- Adding or removing single elements from a page\n",
    "- Altering the text on a button\n",
    "- Re-organizing a pages content\n",
    "\n",
    "**Check:** Consider an e-commerce site. What must be taken into account when designing, conducting, and analysing an A/B test?\n",
    "\n",
    "> Answer: The main effect in e-commerce is the flow of the user through the conversion funnel. Once users land on the site, test to see if the variant has any effect on how many products they view, how many products are added to cart, changes in cart abandonment rates, changes in conversion rates, order volume, average order value, etc.\n",
    "\n",
    "\n",
    "<a name=\"intro-design\"></a>\n",
    "## Introduction: A/B Test Design \n",
    "\n",
    "An A/B test is only as good as its design. Designing the test involves asking these four questions:\n",
    "\n",
    "### 1. What element(s) will be changed?\n",
    "\n",
    "While working with a PM, you will likely have little say in what elements are changed for a test. Keep in mind that to prevent false correlations in the data, the smallest changes possible will likely have the most meaningful results.\n",
    "\n",
    "\n",
    "### 2. Who will be a part of the test group?\n",
    "\n",
    "Will you be splitting the incoming traffic 50/50 between variants, or can you get away with serving the variant under test to a smaller group? Also, will the test split change? We'll discuss one strategy for assigning test groups in the next section.\n",
    "\n",
    "### 3. How long will the test run?\n",
    "\n",
    "This is a very important question to ask. If the test doesn't run long enough, your data won't be useful. If it runs too long, that can impact business needs. \n",
    "Remember back to Week 9's Time Series Analysis lessons- ensure that you have enough data to capture across multiple periods, or seasons, but not too much data that your result will be heavily affected by trend.\n",
    "\n",
    "### 4. Why is this test truly necessary?\n",
    "\n",
    "A/B testing is a gamble. If the business result of the test is less valuable than the possible negative effects on churn or conversion rate, then it might be worth re-evaluating your design.\n",
    "\n",
    "## Multi-Arm Bandit Testing\n",
    "\n",
    "A traditional A/B test is done by splitting traffic between variants 50/50. A newer approach is the _Multi-Arm Bandit_. \n",
    "\n",
    "In this strategy, traffic is split as such:\n",
    "- **Exploration Phase**: During the first ~10% of the test, traffic is split 50/50. This phase picks a short-term 'winner', and a short-term 'loser'.\n",
    "- **Exploitation Phase**: For the remainder of the test, shift the majority of traffic to the higher performing variant. Continue to adjust traffic as performance increases/decreases.\n",
    "\n",
    "The Multi-Arm Bandit approach is championed by many big companies, primarily Google. In the [Additional Resources](#add-res) section below, there's a nice article on Google's strategy.\n",
    "\n",
    "**Check:** What do you think the pros and cons of this model are?\n",
    "\n",
    "In practice, Multi-Arm Bandit testing does a fairly good job of optimizing conversion rates. The downside to this method, however, is increased difficulty in evaluation of results. Simply picking a 'winner' variant is not always the best strategy, especially since the 'loser' variant often gets so little traffic that it can be hard to validate the statistical significance of the lift. \n",
    "\n",
    "To shed more light on the importance of controlling your traffic flow through variants, let's look at how these tests are analyzed.\n",
    "\n",
    "\n",
    "<a name=\"intro-analysis\"></a>\n",
    "## Introduction: Test Analysis Strategies \n",
    "\n",
    "**Check:** How do you think we would analyse the results of an A/B test?\n",
    "\n",
    "Consider an e-commerce example. Two variants are created, and after the appropriate data collection period has passed, you've found that the test variant has a higher conversion rate than the control. Does that automatically mean that the variant is better? Why or why not?\n",
    "\n",
    "There are many means by which we can analyse the results of our test. They are not always interchangeable, as some heuristics are more meaningful than others given the circumstance. The end result is usually the same- to test whether or not the difference between variants is statistically significant, or if it is just a fluke.\n",
    "\n",
    "<a name=\"demo-ttest\"></a>\n",
    "## Demo: _T_-tests \n",
    "\n",
    "Also referred to as the Student's _t_-test, it is one of the most commonly used techniques for testing a null hypothesis on the basis of a difference between sample means. By testing the means of two samples derived from the same source, the _t_-test determines a probability that two populations are the same with respect to the variable tested. In an A/B test, this will tell us if the difference in the target metric is accidental, or _statistically significant_.\n",
    "\n",
    "![](./assets/images/ttest-formula.png)\n",
    "\n",
    "**Check:** The output of a _t_-test is a _p_ value. Do you recall the significance of _p_ values? What range of _p_ values indicate statistical significance?\n",
    "\n",
    "_t_-tests can be either _one-tailed_ or _two-tailed_. This refers to whether or not the change is measure in two directions, or only one. Visually, this looks like:\n",
    "\n",
    "**One-Tailed**:\n",
    "![one-tailed](./assets/images/1tailed.gif)\n",
    "\n",
    "**Two-Tailed**:\n",
    "![two-tailed](./assets/images/2tailed.gif)\n",
    "\n",
    "\n",
    "Let's look at how we would model the Student's _t_-test in Python in the [`ab_testing.ipynb`](./assets/code/solution-code/ab_testing.ipynb) notebook.\n",
    "\n",
    "\n",
    "\n",
    "<a name=\"code-ztest\"></a>\n",
    "## Guided Practice/Codealong: _Z_-tests \n",
    "\n",
    "The _z_-tests is another method used to analyse test results. Use of a _z_-test is possible when the observed data can be decided to follow a Normal distribution with _unknown mean_ and _known variance_. The output of a _z_-test is the _z_-statistic, which represents the number of standard deviations  and its corresponding _p_-value. It is defined as such: \n",
    "\n",
    "![](./assets/images/ztest-formula.png)\n",
    "\n",
    "While `statsmodels` does have a built in method for calculating _z_ values, we're going to build our own based on the above formula. \n",
    "\n",
    "\n",
    "\n"
   ]
  },
  {
   "cell_type": "markdown",
   "metadata": {},
   "source": [
    "# LAB - A/B Testing"
   ]
  },
  {
   "cell_type": "code",
   "execution_count": 1,
   "metadata": {
    "collapsed": true
   },
   "outputs": [],
   "source": [
    "import numpy as np\n",
    "import scipy.stats as stats\n",
    "import pylab as pl\n",
    "%matplotlib inline"
   ]
  },
  {
   "cell_type": "code",
   "execution_count": 2,
   "metadata": {
    "collapsed": false
   },
   "outputs": [
    {
     "data": {
      "image/png": "[encoded data removed]",
      "text/plain": [
       "<matplotlib.figure.Figure at 0x10b4c1bd0>"
      ]
     },
     "metadata": {},
     "output_type": "display_data"
    },
    {
     "data": {
      "image/png": "[encoded data removed]",
      "text/plain": [
       "<matplotlib.figure.Figure at 0x10b6a18d0>"
      ]
     },
     "metadata": {},
     "output_type": "display_data"
    },
    {
     "data": {
      "text/plain": [
       "Ttest_indResult(statistic=-0.28381897794166749, pvalue=0.77687896981285487)"
      ]
     },
     "execution_count": 2,
     "metadata": {},
     "output_type": "execute_result"
    }
   ],
   "source": [
    "# Generate data\n",
    "a = sorted(np.random.randn(100))\n",
    "b = sorted(np.random.randn(1) * np.random.randn(80))\n",
    "\n",
    "# Plot distribution of A\n",
    "fit = stats.norm.pdf(a, np.mean(a), np.std(a))\n",
    "pl.plot(a,fit,'-o')\n",
    "pl.hist(a,normed=True) \n",
    "pl.title('Group A')\n",
    "pl.show()\n",
    "\n",
    "# Plot distribution of B\n",
    "fit = stats.norm.pdf(b, np.mean(b), np.std(b))\n",
    "pl.plot(b,fit,'-o')\n",
    "pl.hist(b,normed=True) \n",
    "pl.title('Group B')\n",
    "pl.show()\n",
    "\n",
    "# Perform T-test\n",
    "stats.ttest_ind(a, b)\n"
   ]
  },
  {
   "cell_type": "markdown",
   "metadata": {},
   "source": [
    "## Running a Z-Test"
   ]
  },
  {
   "cell_type": "code",
   "execution_count": 3,
   "metadata": {
    "collapsed": true
   },
   "outputs": [],
   "source": [
    "# Defining the function for a Z-test:\n",
    "\n",
    "def ztest(x1, n1, x2, n2, one_tailed=False):\n",
    "    \"\"\"\n",
    "    One- or Two-Tailed Z-test for two samples\n",
    "    \n",
    "    Args:\n",
    "        x1 = # of successes in Sample 1\n",
    "        n1 = # of observations in Sample 1\n",
    "        x2 = # of successes in Sample 2\n",
    "        n2 = # of observations in Sample 2\n",
    "        one_tailed = Boolean, whether or not the test should be One-Tailed\n",
    "        \n",
    "    Return:\n",
    "        z = Z-stat\n",
    "    \"\"\"\n",
    "    x1 = float(x1)\n",
    "    n1 = float(n1)\n",
    "    x2 = float(x2)\n",
    "    n2 = float(n2)\n",
    " \n",
    "    p1 = x1 / n1\n",
    "    p2 = x2 / n2    \n",
    " \n",
    "    p = (x1 + x2) / (n1 + n2)\n",
    "    se = p * (1 - p) * ((1 / n1) + (1/ n2))\n",
    "    sse = np.sqrt(se)\n",
    "    \n",
    "    z = (p1 - p2) / sse\n",
    "    p = 1 - stats.norm.cdf(abs(z))\n",
    "    \n",
    "    if not one_tailed:\n",
    "        p *= 2\n",
    "        \n",
    "    return z, p"
   ]
  },
  {
   "cell_type": "code",
   "execution_count": 4,
   "metadata": {
    "collapsed": false
   },
   "outputs": [
    {
     "data": {
      "text/plain": [
       "(-4.3299120715441166, 1.4916889162330804e-05)"
      ]
     },
     "execution_count": 4,
     "metadata": {},
     "output_type": "execute_result"
    }
   ],
   "source": [
    "# Do a Z - test with fake data:\n",
    "\n",
    "control_observations = 3141 #n1\n",
    "control_successes = 1904 # x1\n",
    "test_observations = 3241 #n2\n",
    "test_successes = 2134 #x2\n",
    "\n",
    "ztest(control_successes, control_observations, test_successes, test_observations, one_tailed=False)"
   ]
  },
  {
   "cell_type": "code",
   "execution_count": null,
   "metadata": {
    "collapsed": true
   },
   "outputs": [],
   "source": []
  },
  {
   "cell_type": "markdown",
   "metadata": {},
   "source": [
    "## Experimental data from an email campaign\n",
    "\n",
    "Use the dataset: Kevin_Hillstrom_MineThatData_E-MailAnalytics_DataMiningChallenge_2008.03.20.csv\n",
    "Details of the dataset can be found here: http://blog.minethatdata.com/2008/03/minethatdata-e-mail-analytics-and-data.html\n",
    "\n",
    "Note that we have 3 segments:\n",
    "\n",
    "- Womens E-Mail\n",
    "- Mens E-Mail\n",
    "- No E-Mail (control)\n",
    "\n",
    "Incremental sales are those sales that can be attributed to the marketing campagin above/(below) what would have resulted if there was no intervention (email). \n",
    "\n",
    "Recall that to get incremental sales you first need to calculate the uplift rate for that segment, then use that uplift rate to determine how many of the actual sales were due to the campaign. The uplift rate is determined by the conversion rate (treatment) - conversion rate (control). \n",
    "\n",
    "You can use statsmodels instead of the ztest function we wrote above if you prefer."
   ]
  },
  {
   "cell_type": "code",
   "execution_count": 5,
   "metadata": {
    "collapsed": true
   },
   "outputs": [],
   "source": [
    "## Read in the data\n",
    "import pandas as pd\n",
    "hill = pd.read_csv(\"Kevin_Hillstrom_MineThatData_E-MailAnalytics_DataMiningChallenge_2008.03.20.csv\")"
   ]
  },
  {
   "cell_type": "code",
   "execution_count": 6,
   "metadata": {
    "collapsed": false
   },
   "outputs": [
    {
     "data": {
      "text/html": [
       "<div>\n",
       "<table border=\"1\" class=\"dataframe\">\n",
       "  <thead>\n",
       "    <tr style=\"text-align: right;\">\n",
       "      <th></th>\n",
       "      <th>recency</th>\n",
       "      <th>history_segment</th>\n",
       "      <th>history</th>\n",
       "      <th>mens</th>\n",
       "      <th>womens</th>\n",
       "      <th>zip_code</th>\n",
       "      <th>newbie</th>\n",
       "      <th>channel</th>\n",
       "      <th>segment</th>\n",
       "      <th>visit</th>\n",
       "      <th>conversion</th>\n",
       "      <th>spend</th>\n",
       "    </tr>\n",
       "  </thead>\n",
       "  <tbody>\n",
       "    <tr>\n",
       "      <th>0</th>\n",
       "      <td>10</td>\n",
       "      <td>2) $100 - $200</td>\n",
       "      <td>142.44</td>\n",
       "      <td>1</td>\n",
       "      <td>0</td>\n",
       "      <td>Surburban</td>\n",
       "      <td>0</td>\n",
       "      <td>Phone</td>\n",
       "      <td>Womens E-Mail</td>\n",
       "      <td>0</td>\n",
       "      <td>0</td>\n",
       "      <td>0</td>\n",
       "    </tr>\n",
       "    <tr>\n",
       "      <th>1</th>\n",
       "      <td>6</td>\n",
       "      <td>3) $200 - $350</td>\n",
       "      <td>329.08</td>\n",
       "      <td>1</td>\n",
       "      <td>1</td>\n",
       "      <td>Rural</td>\n",
       "      <td>1</td>\n",
       "      <td>Web</td>\n",
       "      <td>No E-Mail</td>\n",
       "      <td>0</td>\n",
       "      <td>0</td>\n",
       "      <td>0</td>\n",
       "    </tr>\n",
       "    <tr>\n",
       "      <th>2</th>\n",
       "      <td>7</td>\n",
       "      <td>2) $100 - $200</td>\n",
       "      <td>180.65</td>\n",
       "      <td>0</td>\n",
       "      <td>1</td>\n",
       "      <td>Surburban</td>\n",
       "      <td>1</td>\n",
       "      <td>Web</td>\n",
       "      <td>Womens E-Mail</td>\n",
       "      <td>0</td>\n",
       "      <td>0</td>\n",
       "      <td>0</td>\n",
       "    </tr>\n",
       "    <tr>\n",
       "      <th>3</th>\n",
       "      <td>9</td>\n",
       "      <td>5) $500 - $750</td>\n",
       "      <td>675.83</td>\n",
       "      <td>1</td>\n",
       "      <td>0</td>\n",
       "      <td>Rural</td>\n",
       "      <td>1</td>\n",
       "      <td>Web</td>\n",
       "      <td>Mens E-Mail</td>\n",
       "      <td>0</td>\n",
       "      <td>0</td>\n",
       "      <td>0</td>\n",
       "    </tr>\n",
       "    <tr>\n",
       "      <th>4</th>\n",
       "      <td>2</td>\n",
       "      <td>1) $0 - $100</td>\n",
       "      <td>45.34</td>\n",
       "      <td>1</td>\n",
       "      <td>0</td>\n",
       "      <td>Urban</td>\n",
       "      <td>0</td>\n",
       "      <td>Web</td>\n",
       "      <td>Womens E-Mail</td>\n",
       "      <td>0</td>\n",
       "      <td>0</td>\n",
       "      <td>0</td>\n",
       "    </tr>\n",
       "  </tbody>\n",
       "</table>\n",
       "</div>"
      ],
      "text/plain": [
       "   recency history_segment  history  mens  womens   zip_code  newbie channel  \\\n",
       "0       10  2) $100 - $200   142.44     1       0  Surburban       0   Phone   \n",
       "1        6  3) $200 - $350   329.08     1       1      Rural       1     Web   \n",
       "2        7  2) $100 - $200   180.65     0       1  Surburban       1     Web   \n",
       "3        9  5) $500 - $750   675.83     1       0      Rural       1     Web   \n",
       "4        2    1) $0 - $100    45.34     1       0      Urban       0     Web   \n",
       "\n",
       "         segment  visit  conversion  spend  \n",
       "0  Womens E-Mail      0           0      0  \n",
       "1      No E-Mail      0           0      0  \n",
       "2  Womens E-Mail      0           0      0  \n",
       "3    Mens E-Mail      0           0      0  \n",
       "4  Womens E-Mail      0           0      0  "
      ]
     },
     "execution_count": 6,
     "metadata": {},
     "output_type": "execute_result"
    }
   ],
   "source": [
    "hill.head()"
   ]
  },
  {
   "cell_type": "markdown",
   "metadata": {},
   "source": [
    "#### Q1) Which e-mail campaign performed the best, the Mens version, or the Womens version?"
   ]
  },
  {
   "cell_type": "code",
   "execution_count": 13,
   "metadata": {
    "collapsed": false
   },
   "outputs": [
    {
     "name": "stdout",
     "output_type": "stream",
     "text": [
      "Womens E-Mail    21387\n",
      "Mens E-Mail      21307\n",
      "No E-Mail        21306\n",
      "Name: segment, dtype: int64\n",
      "0    21198\n",
      "1      189\n",
      "Name: conversion, dtype: int64\n",
      "0    21040\n",
      "1      267\n",
      "Name: conversion, dtype: int64\n",
      "0    21184\n",
      "1      122\n",
      "Name: conversion, dtype: int64\n"
     ]
    }
   ],
   "source": [
    "print hill.segment.value_counts()\n",
    "print hill[hill.segment=='Womens E-Mail'].conversion.value_counts()\n",
    "print hill[hill.segment=='Mens E-Mail'].conversion.value_counts()\n",
    "print hill[hill.segment=='No E-Mail'].conversion.value_counts()"
   ]
  },
  {
   "cell_type": "markdown",
   "metadata": {},
   "source": [
    "#### Q2) Are the results significant?"
   ]
  },
  {
   "cell_type": "code",
   "execution_count": 22,
   "metadata": {
    "collapsed": false
   },
   "outputs": [
    {
     "name": "stdout",
     "output_type": "stream",
     "text": [
      "Women Z-test\n",
      "(-3.8073913196329103, 0.00014044042497785014)\n",
      "Men Z-test\n",
      "(-7.4535114279746448, 9.0816243414337805e-14)\n",
      "Men vs Women Z-test\n",
      "(-3.7529035142599176, 0.00017479814667820115)\n"
     ]
    }
   ],
   "source": [
    "#hill_m = hill[hill.segment=='Mens E-Mail'].conversion\n",
    "#hill_f = hill[hill.segment=='Womens E-Mail'].conversion\n",
    "\n",
    "#stats.ttest_ind(a, b)\n",
    "\n",
    "control_observations = 21184 #n1\n",
    "control_successes = 122 # x1\n",
    "men_observations = 21040 #n2\n",
    "men_successes = 267 #x2\n",
    "women_observations = 21198 #n2\n",
    "women_successes = 189 #x2\n",
    "\n",
    "print \"Women Z-test\"\n",
    "print ztest(control_successes, control_observations, women_successes, women_observations, one_tailed=False)\n",
    "\n",
    "print \"Men Z-test\"\n",
    "print ztest(control_successes, control_observations, men_successes, men_observations, one_tailed=False)\n",
    "\n",
    "print \"Men vs Women Z-test\"\n",
    "print ztest(women_successes, women_observations, men_successes, men_observations, one_tailed=False)"
   ]
  },
  {
   "cell_type": "markdown",
   "metadata": {},
   "source": [
    "#### Q3) How much incremental sales per customer did the Mens version of the e-mail campaign drive? "
   ]
  },
  {
   "cell_type": "code",
   "execution_count": null,
   "metadata": {
    "collapsed": true
   },
   "outputs": [],
   "source": []
  },
  {
   "cell_type": "markdown",
   "metadata": {},
   "source": [
    "#### Q4) How much incremental sales per customer did the Womens version of the e-mail campaign drive? "
   ]
  },
  {
   "cell_type": "code",
   "execution_count": 16,
   "metadata": {
    "collapsed": false
   },
   "outputs": [],
   "source": []
  },
  {
   "cell_type": "markdown",
   "metadata": {},
   "source": [
    "-----"
   ]
  },
  {
   "cell_type": "markdown",
   "metadata": {},
   "source": [
    "<a name=\"discussion1\"></a>\n",
    "## Discussion: A/B Test Case Study 1 - Obama's Fundraising Campaign \n",
    "\n",
    "One of the most popular case studies of A/B testing in recent memory was posted by [Optimizely](https://www.optimizely.com/) on their company blog. Optimizely is a 3rd party A/B testing tool which allows you to easily design, serve, and analyze website optimization tests. \n",
    "\n",
    "Go ahead and read the article [here](https://blog.optimizely.com/2010/11/29/how-obama-raised-60-million-by-running-a-simple-experiment/), and get ready to discuss afterwards.\n",
    "\n",
    "Now that we've read the article, let's discuss. \n",
    "\n",
    "> Instructor's Note: Here are a few prompts. \n",
    "> - Why do you think this test worked?\n",
    "> - What were the risks taken? Were they worth taking?\n",
    "> - What next steps would you have taken if this test were still going?\n",
    "\n",
    "\n",
    "<a name=\"discussion2\"></a>\n",
    "## Discussion: A/B Test Case Study 2 - AMD's Social Media Sharing \n",
    "\n",
    "A/B testing is a great way to continuously mine data about what people are interested in on social media. This next case study is about AMD, a semiconductor company responsible for creating some of the hardware that is likely in the computer you're using right now. In this case study, we will see how a simple change in placement had a major increase on social media sharing.\n",
    "\n",
    "Go ahead and read the article [here](https://vwo.com/blog/amd-3600-social-sharing-increase/), and get ready to discuss afterwards.\n",
    "\n",
    "Now that we've read the article, let's discuss. \n",
    "\n",
    "> Instructor's Note: Here are a few prompts. \n",
    "> - Why do you think this test worked?\n",
    "> - What were the risks taken? Were they worth taking?\n",
    "> - What next steps would you have taken if this test were still going?\n",
    "\n",
    "https://vwo.com/blog/amd-3600-social-sharing-increase/\n",
    "\n",
    "\n",
    "<a name=\"conclusion\"></a>\n",
    "## Conclusion \n",
    "\n",
    "A/B Testing is a key opportunity for Data Scientists to have a concrete effect on business outcomes. It requires more than just statistical formulas, as one must call on their business intuition and technical competency to full understand the results. The design, implementation, and analysis of an A/B test will typically be performed across functions, putting the Data Scientist in close contact with PM's, developers, and UX designers. If this kind of thing interests you, it would be a good idea to take some time and try out the third party tools that are available to you, such as Optimizely, Sitespect, VWO, etc. Many of them have demos on their sites, or if you're interested in web development, take the time to put together your own A/B testing tools. \n",
    "\n",
    "***\n",
    "\n",
    "<a name=\"add-res\"></a>\n",
    "### ADDITIONAL RESOURCES\n",
    "\n",
    "- [Google's Multi-Arm Bandit Strategy](https://support.google.com/analytics/answer/2844870?hl=en)\n",
    "- [A/B Testing Case Studies](https://www.whichtestwon.com/case-studies/)"
   ]
  },
  {
   "cell_type": "code",
   "execution_count": null,
   "metadata": {
    "collapsed": true
   },
   "outputs": [],
   "source": []
  }
 ],
 "metadata": {
  "kernelspec": {
   "display_name": "Python 2",
   "language": "python",
   "name": "python2"
  },
  "language_info": {
   "codemirror_mode": {
    "name": "ipython",
    "version": 2
   },
   "file_extension": ".py",
   "mimetype": "text/x-python",
   "name": "python",
   "nbconvert_exporter": "python",
   "pygments_lexer": "ipython2",
   "version": "2.7.12"
  }
 },
 "nbformat": 4,
 "nbformat_minor": 0
}
